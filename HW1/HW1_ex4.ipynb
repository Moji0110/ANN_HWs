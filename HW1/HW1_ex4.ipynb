{
 "cells": [
  {
   "cell_type": "markdown",
   "metadata": {},
   "source": [
    "# HW1_ex_4_1"
   ]
  },
  {
   "cell_type": "code",
   "execution_count": 1,
   "metadata": {},
   "outputs": [
    {
     "name": "stdout",
     "output_type": "stream",
     "text": [
      "loss=[237.16000000000003, 6.760000000000001, 90.25, 3.61]\n",
      "\n",
      "mean loss = 84.44500000000001\n"
     ]
    }
   ],
   "source": [
    "import numpy as np\n",
    "\n",
    "def softmax(x):\n",
    "    \"\"\"Compute softmax values for each sets of scores in x.\"\"\"\n",
    "    return np.exp(x) / np.sum(np.exp(x), axis=0)\n",
    "\n",
    "def mse_loss(y_true,y_predict):\n",
    "    return np.mean((y_true-y_predict)**2,axis = -1)\n",
    "\n",
    "# input\n",
    "p = np.array([[[0], [-4],[1.7], [-2]],\n",
    "              [[1], [3], [-1], [-3]],\n",
    "              [[2], [-3], [0], [1.5]]])\n",
    "\n",
    "label = np.array([[[0.4], [-1.6], [3.7], [-0.9]]])\n",
    "\n",
    "\n",
    "# defining weights and biases for first layer\n",
    "\n",
    "W1 = np.ones((4,3))\n",
    "b1 = np.ones((4,1))\n",
    "W2 = np.ones((1,4))*-1.0\n",
    "b2 = np.ones((1,1))\n",
    "\n",
    "# forward prop\n",
    "output_batch = np.zeros((1,4,1))\n",
    "for i in range(p.shape[1]):\n",
    "    n1 = np.matmul(W1,p[:,i,:])+b1\n",
    "    a1 = np.maximum(0,n1)\n",
    "    n2 = np.matmul(W2,a1)+b2\n",
    "    output_batch[:,i,:] = n2\n",
    "\n",
    "# calculating loss and accuracy for each input\n",
    "\n",
    "loss=[]\n",
    "for i in range(output_batch.shape[1]):\n",
    "\n",
    "    loss.append(mse_loss(label[:,i,:],output_batch[:,i,:])[0])\n",
    "\n",
    "\n",
    "print(f\"loss={loss}\\n\")\n",
    "print(f\"mean loss = {(loss[0]+loss[1]+loss[2]+loss[3])/4}\")"
   ]
  },
  {
   "cell_type": "code",
   "execution_count": null,
   "metadata": {},
   "outputs": [],
   "source": []
  }
 ],
 "metadata": {
  "kernelspec": {
   "display_name": "Python 3",
   "language": "python",
   "name": "python3"
  },
  "language_info": {
   "codemirror_mode": {
    "name": "ipython",
    "version": 3
   },
   "file_extension": ".py",
   "mimetype": "text/x-python",
   "name": "python",
   "nbconvert_exporter": "python",
   "pygments_lexer": "ipython3",
   "version": "3.9.0"
  }
 },
 "nbformat": 4,
 "nbformat_minor": 2
}
