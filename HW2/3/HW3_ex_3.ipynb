{
 "cells": [
  {
   "cell_type": "code",
   "execution_count": 36,
   "metadata": {},
   "outputs": [],
   "source": [
    "import numpy as np\n",
    "import matplotlib.pyplot as plt\n",
    "\n",
    "class UnitStep:\n",
    "    def __init__(self):\n",
    "        pass\n",
    "    def forward(self, inputs):\n",
    "        self.input = inputs\n",
    "        self.output = np.zeros((inputs.shape))\n",
    "        self.output[np.where(inputs>=0)] = 1"
   ]
  },
  {
   "cell_type": "code",
   "execution_count": 37,
   "metadata": {},
   "outputs": [
    {
     "name": "stdout",
     "output_type": "stream",
     "text": [
      "W1 =  [[-1  1]\n",
      " [ 1 -1]\n",
      " [ 1  1]\n",
      " [-1 -1]]\n"
     ]
    }
   ],
   "source": [
    "W1 = np.array([[-1, 1],[1, -1], [1, 1], [-1, -1]])\n",
    "b1 = np.array([2, 0, -4, 6])\n",
    "W2 = np.ones((1,4))\n",
    "b2 = np.array([[-3.1]])\n",
    "print(\"W1 = \", W1)"
   ]
  },
  {
   "cell_type": "code",
   "execution_count": 38,
   "metadata": {},
   "outputs": [
    {
     "name": "stdout",
     "output_type": "stream",
     "text": [
      "(2, 81)\n"
     ]
    }
   ],
   "source": [
    "test = []\n",
    "for i in np.arange(0, 9, 1):\n",
    "    for j in np.arange(0, 9, 1):\n",
    "        test.append([i, j])\n",
    "\n",
    "test = np.array(test)\n",
    "test = test.T\n",
    "print(test.shape)"
   ]
  },
  {
   "cell_type": "code",
   "execution_count": 41,
   "metadata": {},
   "outputs": [
    {
     "name": "stdout",
     "output_type": "stream",
     "text": [
      "[[1.]]\n",
      "[[1.]]\n",
      "[[1.]]\n",
      "[[1.]]\n",
      "[[1.]]\n",
      "[[0.]]\n",
      "[[0.]]\n",
      "[[0.]]\n",
      "[[0.]]\n",
      "[[0.]]\n"
     ]
    },
    {
     "data": {
      "text/plain": [
       "<matplotlib.collections.PathCollection at 0x1e4d7914c70>"
      ]
     },
     "execution_count": 41,
     "metadata": {},
     "output_type": "execute_result"
    },
    {
     "data": {
      "image/png": "[encoded data removed]",
      "text/plain": [
       "<Figure size 640x480 with 1 Axes>"
      ]
     },
     "metadata": {},
     "output_type": "display_data"
    }
   ],
   "source": [
    "P = np.array([[2, 3, 3, 4, 3, 2, 1, 5, 6, 7],\n",
    "              [2, 1, 2, 2, 3, 4, 5, 5, 6, 7]])\n",
    "\n",
    "activation1 = UnitStep()\n",
    "activation2 = UnitStep()\n",
    "\n",
    "for i in range(P.shape[1]):\n",
    "\n",
    "    x = P[:,i]\n",
    "\n",
    "    n1 = np.matmul(W1, x) + b1\n",
    "    activation1.forward(n1)\n",
    "    n2 = np.matmul(W2, activation1.output.reshape((4,1))) + b2\n",
    "    activation2.forward(n2)\n",
    "    print(activation2.output)\n",
    "\n",
    "\n",
    "out = []\n",
    "for i in range(test.shape[1]):\n",
    "\n",
    "    x = test[:,i]\n",
    "\n",
    "    n1 = np.matmul(W1, x) + b1\n",
    "    activation1.forward(n1)\n",
    "    n2 = np.matmul(W2, activation1.output.reshape((4,1))) + b2\n",
    "    activation2.forward(n2)\n",
    "\n",
    "    out.append(activation2.output)\n",
    "    \n",
    "out = np.array(out)\n",
    "out = out.reshape((81,))   \n",
    "plt.scatter(test[0, out==1], test[1, out==1], c = \"b\")\n",
    "plt.scatter(test[0, out==0], test[1, out==0], c = \"r\")\n",
    "\n",
    "    \n",
    "\n",
    "    \n",
    "             "
   ]
  },
  {
   "cell_type": "code",
   "execution_count": 50,
   "metadata": {},
   "outputs": [
    {
     "name": "stdout",
     "output_type": "stream",
     "text": [
      "W1 =  [[-1  1]\n",
      " [ 1 -1]\n",
      " [ 1  1]\n",
      " [-1 -1]]\n"
     ]
    }
   ],
   "source": [
    "W1 = np.array([[-1, 1],[1, -1], [1, 1], [-1, -1]])\n",
    "b1 = np.array([-2, 4, -6, 6])\n",
    "W2 = np.ones((1,4))\n",
    "b2 = np.array([[-3.1]])\n",
    "print(\"W1 = \", W1)"
   ]
  },
  {
   "cell_type": "code",
   "execution_count": 51,
   "metadata": {},
   "outputs": [
    {
     "name": "stdout",
     "output_type": "stream",
     "text": [
      "[0. 1. 0. 1.]\n",
      "[0. 1. 0. 1.]\n",
      "[0. 1. 0. 1.]\n",
      "[0. 1. 1. 1.]\n",
      "[0. 1. 1. 1.]\n",
      "[1. 1. 1. 1.]\n",
      "[1. 1. 1. 1.]\n",
      "[0. 1. 1. 0.]\n",
      "[0. 1. 1. 0.]\n",
      "[0. 1. 1. 0.]\n"
     ]
    },
    {
     "data": {
      "text/plain": [
       "<matplotlib.collections.PathCollection at 0x1e4d9bc7fa0>"
      ]
     },
     "execution_count": 51,
     "metadata": {},
     "output_type": "execute_result"
    },
    {
     "data": {
      "image/png": "[encoded data removed]",
      "text/plain": [
       "<Figure size 640x480 with 1 Axes>"
      ]
     },
     "metadata": {},
     "output_type": "display_data"
    }
   ],
   "source": [
    "P = np.array([[2, 3, 3, 4, 3, 2, 1, 5, 6, 7],\n",
    "              [2, 1, 2, 2, 3, 4, 5, 5, 6, 7]])\n",
    "\n",
    "activation1 = UnitStep()\n",
    "activation2 = UnitStep()\n",
    "\n",
    "for i in range(P.shape[1]):\n",
    "\n",
    "    x = P[:,i]\n",
    "\n",
    "    n1 = np.matmul(W1, x) + b1\n",
    "    activation1.forward(n1)\n",
    "    print(activation1.output)\n",
    "    n2 = np.matmul(W2, activation1.output.reshape((4,1))) + b2\n",
    "    activation2.forward(n2)\n",
    "    \n",
    "\n",
    "\n",
    "out = []\n",
    "for i in range(test.shape[1]):\n",
    "\n",
    "    x = test[:,i]\n",
    "\n",
    "    n1 = np.matmul(W1, x) + b1\n",
    "    activation1.forward(n1)\n",
    "    n2 = np.matmul(W2, activation1.output.reshape((4,1))) + b2\n",
    "    activation2.forward(n2)\n",
    "\n",
    "    out.append(activation2.output)\n",
    "    \n",
    "out = np.array(out)\n",
    "out = out.reshape((81,))   \n",
    "plt.scatter(test[0, out==1], test[1, out==1], c = \"b\")\n",
    "plt.scatter(test[0, out==0], test[1, out==0], c = \"r\")"
   ]
  },
  {
   "cell_type": "code",
   "execution_count": 52,
   "metadata": {},
   "outputs": [
    {
     "name": "stdout",
     "output_type": "stream",
     "text": [
      "W1 =  [[-1  1]\n",
      " [ 1 -1]\n",
      " [ 1  1]\n",
      " [-1 -1]]\n"
     ]
    }
   ],
   "source": [
    "W1 = np.array([[-1, 1],[1, -1], [1, 1], [-1, -1]])\n",
    "b1 = np.array([0, 0, -9, 14])\n",
    "W2 = np.ones((1,4))\n",
    "b2 = np.array([[-3.1]])\n",
    "print(\"W1 = \", W1)"
   ]
  },
  {
   "cell_type": "code",
   "execution_count": 53,
   "metadata": {},
   "outputs": [
    {
     "name": "stdout",
     "output_type": "stream",
     "text": [
      "[1. 1. 0. 1.]\n",
      "[0. 1. 0. 1.]\n",
      "[0. 1. 0. 1.]\n",
      "[0. 1. 0. 1.]\n",
      "[1. 1. 0. 1.]\n",
      "[1. 0. 0. 1.]\n",
      "[1. 0. 0. 1.]\n",
      "[1. 1. 1. 1.]\n",
      "[1. 1. 1. 1.]\n",
      "[1. 1. 1. 1.]\n"
     ]
    },
    {
     "data": {
      "text/plain": [
       "<matplotlib.collections.PathCollection at 0x1e4d9c662b0>"
      ]
     },
     "execution_count": 53,
     "metadata": {},
     "output_type": "execute_result"
    },
    {
     "data": {
      "image/png": "[encoded data removed]",
      "text/plain": [
       "<Figure size 640x480 with 1 Axes>"
      ]
     },
     "metadata": {},
     "output_type": "display_data"
    }
   ],
   "source": [
    "P = np.array([[2, 3, 3, 4, 3, 2, 1, 5, 6, 7],\n",
    "              [2, 1, 2, 2, 3, 4, 5, 5, 6, 7]])\n",
    "\n",
    "activation1 = UnitStep()\n",
    "activation2 = UnitStep()\n",
    "\n",
    "for i in range(P.shape[1]):\n",
    "\n",
    "    x = P[:,i]\n",
    "\n",
    "    n1 = np.matmul(W1, x) + b1\n",
    "    activation1.forward(n1)\n",
    "    print(activation1.output)\n",
    "    n2 = np.matmul(W2, activation1.output.reshape((4,1))) + b2\n",
    "    activation2.forward(n2)\n",
    "    \n",
    "\n",
    "\n",
    "out = []\n",
    "for i in range(test.shape[1]):\n",
    "\n",
    "    x = test[:,i]\n",
    "\n",
    "    n1 = np.matmul(W1, x) + b1\n",
    "    activation1.forward(n1)\n",
    "    n2 = np.matmul(W2, activation1.output.reshape((4,1))) + b2\n",
    "    activation2.forward(n2)\n",
    "\n",
    "    out.append(activation2.output)\n",
    "    \n",
    "out = np.array(out)\n",
    "out = out.reshape((81,))   \n",
    "plt.scatter(test[0, out==1], test[1, out==1], c = \"b\")\n",
    "plt.scatter(test[0, out==0], test[1, out==0], c = \"r\")"
   ]
  },
  {
   "cell_type": "code",
   "execution_count": 85,
   "metadata": {},
   "outputs": [
    {
     "name": "stdout",
     "output_type": "stream",
     "text": [
      "[1.]\n",
      "[1.]\n",
      "[1.]\n",
      "[1.]\n",
      "[1.]\n",
      "[1.]\n",
      "[1.]\n",
      "[1.]\n",
      "[1.]\n",
      "[1.]\n"
     ]
    },
    {
     "data": {
      "text/plain": [
       "<matplotlib.collections.PathCollection at 0x1e4db05dbb0>"
      ]
     },
     "execution_count": 85,
     "metadata": {},
     "output_type": "execute_result"
    },
    {
     "data": {
      "image/png": "[encoded data removed]",
      "text/plain": [
       "<Figure size 640x480 with 1 Axes>"
      ]
     },
     "metadata": {},
     "output_type": "display_data"
    }
   ],
   "source": [
    "W1 = np.array([[-1, 1],[1, -1], [1, 1], [-1, -1], [-1, 1],[1, -1], [1, 1], [-1, -1], [-1, 1],[1, -1], [1, 1], [-1, -1]])\n",
    "b1 = np.array([2, 0, -4, 6, -2, 4, -6, 6, 0, 0, -9, 14])\n",
    "W2 = np.array([[1, 1, 1, 1, 0, 0, 0, 0, 0, 0, 0, 0], [0, 0, 0, 0, 1, 1, 1, 1, 0, 0, 0, 0], [0, 0, 0, 0, 0, 0, 0, 0, 1, 1, 1, 1]])\n",
    "b2 = np.array([-3.1, -3.1, -3.1])\n",
    "W3 = np.array([[1, 1, 1]])\n",
    "b3 = -0.1\n",
    "\n",
    "\n",
    "P = np.array([[2, 3, 3, 4, 3, 2, 1, 5, 6, 7],\n",
    "              [2, 1, 2, 2, 3, 4, 5, 5, 6, 7]])\n",
    "\n",
    "activation1 = UnitStep()\n",
    "activation2 = UnitStep()\n",
    "activation3 = UnitStep()\n",
    "\n",
    "\n",
    "for i in range(P.shape[1]):\n",
    "\n",
    "    x = P[:,i]\n",
    "\n",
    "    n1 = np.matmul(W1, x) + b1\n",
    "    activation1.forward(n1)\n",
    "    n2 = np.matmul(W2, activation1.output) + b2\n",
    "    activation2.forward(n2)\n",
    "    n3 = np.matmul(W3, activation2.output) + b3\n",
    "    activation3.forward(n3)\n",
    "    print(activation3.output)\n",
    "    \n",
    "\n",
    "\n",
    "out = []\n",
    "for i in range(test.shape[1]):\n",
    "\n",
    "    x = test[:,i]\n",
    "\n",
    "    n1 = np.matmul(W1, x) + b1\n",
    "    activation1.forward(n1)\n",
    "    n2 = np.matmul(W2, activation1.output) + b2\n",
    "    activation2.forward(n2)\n",
    "    n3 = np.matmul(W3, activation2.output) + b3\n",
    "    activation3.forward(n3)\n",
    "\n",
    "    out.append(activation3.output)\n",
    "    \n",
    "out = np.array(out)\n",
    "out = out.reshape((81,))   \n",
    "plt.scatter(test[0, out==1], test[1, out==1], c = \"b\")\n",
    "plt.scatter(test[0, out==0], test[1, out==0], c = \"r\")\n",
    "    "
   ]
  },
  {
   "cell_type": "code",
   "execution_count": null,
   "metadata": {},
   "outputs": [],
   "source": []
  },
  {
   "cell_type": "code",
   "execution_count": null,
   "metadata": {},
   "outputs": [],
   "source": []
  }
 ],
 "metadata": {
  "kernelspec": {
   "display_name": "Python 3",
   "language": "python",
   "name": "python3"
  },
  "language_info": {
   "codemirror_mode": {
    "name": "ipython",
    "version": 3
   },
   "file_extension": ".py",
   "mimetype": "text/x-python",
   "name": "python",
   "nbconvert_exporter": "python",
   "pygments_lexer": "ipython3",
   "version": "3.9.0"
  }
 },
 "nbformat": 4,
 "nbformat_minor": 2
}
