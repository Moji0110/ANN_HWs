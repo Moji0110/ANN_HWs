{
 "cells": [
  {
   "cell_type": "markdown",
   "metadata": {},
   "source": [
    "# HW1_ex_1-1"
   ]
  },
  {
   "cell_type": "code",
   "execution_count": 1,
   "metadata": {},
   "outputs": [
    {
     "name": "stdout",
     "output_type": "stream",
     "text": [
      "[[ 0.58843504  2.47522474 -2.39013047  5.64056264  2.37917324  4.17099395]]\n",
      "[[0.58843504 2.47522474 0.         5.64056264 2.37917324 4.17099395]]\n"
     ]
    }
   ],
   "source": [
    "import numpy as np\n",
    "\n",
    "#defining random weights and bias\n",
    "\n",
    "# Weights\n",
    "W = np.random.uniform(-1,1,(6,4))\n",
    "\n",
    "# biases\n",
    "b = np.random.uniform(-1,1,(6,1))\n",
    "\n",
    "# input\n",
    "p = np.array([[1],[-2],[5],[1]])\n",
    "\n",
    "# output of summation\n",
    "n = np.matmul(W,p)+b\n",
    "\n",
    "# output of activation function\n",
    "a = np.maximum(0,n).T\n",
    "\n",
    "# Results\n",
    "print(n.T)\n",
    "print(a)"
   ]
  },
  {
   "cell_type": "markdown",
   "metadata": {},
   "source": [
    "# HW1_ex_1-2"
   ]
  },
  {
   "cell_type": "code",
   "execution_count": 32,
   "metadata": {},
   "outputs": [
    {
     "name": "stdout",
     "output_type": "stream",
     "text": [
      "weights of layer 1:\n",
      " [[-0.57396028 -0.2632625   0.83443337]\n",
      " [ 0.         -0.48487753  0.91779624]]\n",
      "\n",
      "weights of layer 2:\n",
      " [[-0.29182156  0.        ]\n",
      " [ 0.          0.74753176]\n",
      " [ 0.46549788 -0.74023447]]\n",
      "\n",
      " output for p=[[ 4 -1 -2]]:\n",
      "  [[0.        ]\n",
      " [0.63107049]\n",
      " [0.        ]]\n",
      "\n",
      " output for p=[[-3  5  1]]:\n",
      "  [[0.        ]\n",
      " [0.63107049]\n",
      " [0.01475526]]\n"
     ]
    },
    {
     "name": "stderr",
     "output_type": "stream",
     "text": [
      "C:\\Users\\TUF\\AppData\\Local\\Temp\\ipykernel_11916\\1308198115.py:22: DeprecationWarning: Conversion of an array with ndim > 0 to a scalar is deprecated, and will error in future. Ensure you extract a single element from your array before performing this operation. (Deprecated NumPy 1.25.)\n",
      "  W2[0,0] = var3\n",
      "C:\\Users\\TUF\\AppData\\Local\\Temp\\ipykernel_11916\\1308198115.py:23: DeprecationWarning: Conversion of an array with ndim > 0 to a scalar is deprecated, and will error in future. Ensure you extract a single element from your array before performing this operation. (Deprecated NumPy 1.25.)\n",
      "  W2[1,1] = var4\n"
     ]
    }
   ],
   "source": [
    "# defining weights and biases for first layer \n",
    "\n",
    "# Weights\n",
    "var1 = np.random.uniform(-1,1,(1,3))\n",
    "var2 = np.random.uniform(-1,1,(1,2))\n",
    "\n",
    "W1 = np.zeros((2,3))\n",
    "W1[0,:] = var1\n",
    "W1[1,1:3] = var2\n",
    "\n",
    "# Biases\n",
    "b1 = np.random.uniform(-1,1,(2,1))\n",
    "\n",
    "print(\"weights of layer 1:\\n\",W1)\n",
    "\n",
    "# defining weights and biases for second layer \n",
    "var3 = np.random.uniform(-1,1,(1,1))\n",
    "var4 = np.random.uniform(-1,1,(1,1))\n",
    "var5 = np.random.uniform(-1,1,(1,2))\n",
    "\n",
    "W2 = np.zeros((3,2))\n",
    "W2[0,0] = var3\n",
    "W2[1,1] = var4\n",
    "W2[2,:] = var5\n",
    "\n",
    "# Biases\n",
    "b2 = np.random.uniform(-1,1,(3,1))\n",
    "\n",
    "print(\"\\nweights of layer 2:\\n\",W2)\n",
    "\n",
    "\n",
    "\n",
    "p1 = np.array([[4],[-1],[-2]])\n",
    "p2 = np.array([[-3],[5],[1]])\n",
    "\n",
    "P=[p1,p2]\n",
    "\n",
    "for i in P:\n",
    "\n",
    "    n1 = np.matmul(W1,i)+b1\n",
    "    a1 = np.maximum(0,n1)\n",
    "    n2 = np.matmul(W2,a1)+b2\n",
    "    a2 = np.maximum(0,n2)\n",
    "\n",
    "    print(f\"\\n output for p={i.T}:\\n \",a2)\n",
    "\n",
    "\n",
    "\n"
   ]
  },
  {
   "cell_type": "markdown",
   "metadata": {},
   "source": [
    "# HW1_ex_1-3"
   ]
  },
  {
   "cell_type": "code",
   "execution_count": 27,
   "metadata": {},
   "outputs": [
    {
     "name": "stdout",
     "output_type": "stream",
     "text": [
      "Leaky ReLU(-0.5)=-0.005,Leaky ReLU(0.5)=0.5\n",
      "GeLU(-0.5)=-0.15428599017485606, GeLU(0.5)=0.34571400982514394\n"
     ]
    },
    {
     "data": {
      "image/png": "[encoded data removed]",
      "text/plain": [
       "<Figure size 640x480 with 1 Axes>"
      ]
     },
     "metadata": {},
     "output_type": "display_data"
    }
   ],
   "source": [
    "import numpy as np\n",
    "import matplotlib.pyplot as plt                                                 \n",
    "\n",
    "\n",
    "# defining Leaky ReLU and GeLU\n",
    "def leaky_relu(x, alpha):\n",
    "\n",
    "    return np.where(x > 0, x, x * alpha)\n",
    "\n",
    "def gelu(x):\n",
    "\n",
    "    return 0.5*x*(1+np.tanh(np.sqrt(2/np.pi)*(x+0.044715*x**3)))\n",
    "\n",
    "\n",
    "\n",
    "# Results\n",
    "x = np.linspace(-10, 10, 1000)\n",
    "leaky_out = leaky_relu(x, 0.01)\n",
    "gelu_out  = gelu(x)\n",
    "\n",
    "plt.plot(x, leaky_out, label=\"Leaky ReLU\")\n",
    "plt.plot(x, gelu_out, label=\"GeLU\")\n",
    "plt.grid()\n",
    "plt.legend()\n",
    "\n",
    "print(f'Leaky ReLU(-0.5)={leaky_relu(-0.5,0.01)},Leaky ReLU(0.5)={leaky_relu(0.5,0.01)}')\n",
    "print(f'GeLU(-0.5)={gelu(-0.5)}, GeLU(0.5)={gelu(0.5)}')\n",
    "\n",
    "\n",
    "\n"
   ]
  },
  {
   "cell_type": "markdown",
   "metadata": {},
   "source": [
    "\n",
    "# HW1_ex_1-4"
   ]
  },
  {
   "cell_type": "code",
   "execution_count": 7,
   "metadata": {},
   "outputs": [
    {
     "name": "stdout",
     "output_type": "stream",
     "text": [
      "[[ 1.        ]\n",
      " [ 1.        ]\n",
      " [ 0.84858423]\n",
      " [-1.        ]]\n"
     ]
    }
   ],
   "source": [
    "import numpy as np\n",
    "\n",
    "# defining weights and biases for first layer\n",
    "\n",
    "mu, sigma = 0, 1 # mean and standard deviation\n",
    "\n",
    "W1 = np.random.normal(mu, sigma, (12,3))\n",
    "b1 = np.zeros((12,1))\n",
    "\n",
    "# defining weights and biases for second layer\n",
    "W2 = np.random.normal(mu, sigma, (4,12))\n",
    "b2 = np.zeros((4,1))\n",
    "\n",
    "\n",
    "# defining network\n",
    "p = np.array([[4],[-1],[-2]])\n",
    "\n",
    "# output of summation for first layer\n",
    "n1 = np.matmul(W1,p)+b1\n",
    "\n",
    "# output of activation function for first layer \n",
    "a1 = n1\n",
    "\n",
    "# output of summation for output layer\n",
    "n2 = np.matmul(W2,n1)+b2\n",
    "\n",
    "# output of activation function for output layer \n",
    "a2 = np.tanh(n2)\n",
    "\n",
    "print(a2)\n",
    "\n",
    "\n",
    "\n"
   ]
  },
  {
   "cell_type": "code",
   "execution_count": null,
   "metadata": {},
   "outputs": [],
   "source": []
  }
 ],
 "metadata": {
  "kernelspec": {
   "display_name": "Python 3",
   "language": "python",
   "name": "python3"
  },
  "language_info": {
   "codemirror_mode": {
    "name": "ipython",
    "version": 3
   },
   "file_extension": ".py",
   "mimetype": "text/x-python",
   "name": "python",
   "nbconvert_exporter": "python",
   "pygments_lexer": "ipython3",
   "version": "3.9.0"
  }
 },
 "nbformat": 4,
 "nbformat_minor": 2
}
